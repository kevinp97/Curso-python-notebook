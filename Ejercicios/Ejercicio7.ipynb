{
 "cells": [
  {
   "cell_type": "markdown",
   "metadata": {},
   "source": [
    "### Ejercicio 7. Composicion. Supermercado"
   ]
  },
  {
   "cell_type": "markdown",
   "metadata": {},
   "source": [
    "-Television  \n",
    "+id  \n",
    "+marca  \n",
    "+pulgadas  \n",
    "+precio\n",
    "\n",
    "-Ordenador  \n",
    "+id  \n",
    "+marca  \n",
    "+capacidad_disco_duro  \n",
    "+ram  \n",
    "+precio  \n",
    "\n",
    "-Monitor  \n",
    "+id  \n",
    "+marca  \n",
    "+pulgadas  \n",
    "+precio\n",
    "\n",
    "-Cliente  \n",
    "+nombre\n",
    "+tipo (VIP o no)\n",
    "+carrito_compra: listado[productos]\n",
    "+pagar()\n",
    "\n",
    "-Cajera  \n",
    "+numero_empleado  \n",
    "+nombre  \n",
    "+atender_cliente()  tiene que salirle las cosas que ha comprado y el precio\n",
    "\n",
    "-Tienda  \n",
    "3 clientes\n",
    "2 cajeras   \n",
    "Atienden en linsta [cliente1,cliente2,cliente3] la cajera 1 al cliente 1 la 2 al 2 y la 1 al 3\n",
    "\n",
    "\n",
    "Cada cliente va llenar la cesta con uno o varios productos  \n",
    "\n",
    "cajeras van a ir atendiendo a los clientes  \n",
    "\n",
    "\n",
    "Si cliente es VIP, 15% en la compra"
   ]
  },
  {
   "cell_type": "code",
   "execution_count": 1,
   "metadata": {},
   "outputs": [],
   "source": [
    "class Compra:\n",
    "\n",
    "    def __init__(self, id_producto, marca_producto, precio, capacidad_disco_duro = None, ram = None, pulgadas_producto = None):\n",
    "        self.cesto_compra_id = {}\n",
    "        self.cesto_compra_datos = {}\n",
    "        self.cesto_compra_id['id'] = id_producto\n",
    "        self.cesto_compra_id['caracteristicas'] = self.cesto_compra_datos\n",
    "        self.cesto_compra_datos['marca'] = marca_producto\n",
    "        self.cesto_compra_datos['pulgadas'] = pulgadas_producto\n",
    "        self.cesto_compra_datos['capacidad_disco_duro'] = capacidad_disco_duro\n",
    "        self.cesto_compra_datos['ram'] = ram\n",
    "        self.cesto_compra_datos['precio'] = precio\n",
    "        \n",
    "    def __str__(self):\n",
    "        return f'Se ha añadido el producto a la cesta de la compra: {self.cesto_compra_id}'    "
   ]
  },
  {
   "cell_type": "code",
   "execution_count": 2,
   "metadata": {},
   "outputs": [],
   "source": [
    "class Cliente:\n",
    "    \n",
    "    def __init__(self,nombre_cliente, cesta_cliente=[], vip=False):\n",
    "        self.cesta_cliente = cesta_cliente\n",
    "        self.nombre_cliente = nombre_cliente\n",
    "        self.vip = vip\n",
    "        \n",
    "    def repaso_compra(self):\n",
    "        self.productos = len(self.cesta_cliente)\n",
    "        print(f'El cliente {self.nombre_cliente} tiene en su cesta {self.productos} productos')\n",
    "        return self.cesta_cliente\n",
    "    \n",
    "    def vip(self):\n",
    "        if self.vip:\n",
    "            print(f'El cliente {self.nombre_cliente} es VIP.')\n",
    "            \n",
    "    def pagar(self):\n",
    "        self.cantidad_pagar = sum(list(map(lambda precio: precio['caracteristicas']['precio'] ,self.cesta_cliente)))\n",
    "        print(f'El cliente {self.nombre_cliente} se dispone a pagar')\n",
    "        "
   ]
  },
  {
   "cell_type": "code",
   "execution_count": 3,
   "metadata": {},
   "outputs": [],
   "source": [
    "class Cajera:\n",
    "    \n",
    "    def __init__(self, numero_empleado, nombre):\n",
    "        self.numero_empleado = numero_empleado\n",
    "        self.nombre = nombre\n",
    "        \n",
    "    def atender_cliente(self, cliente):\n",
    "        self.cliente_nombre = cliente.nombre_cliente\n",
    "        self.cliente_cesta = cliente.cesta_cliente\n",
    "        self.total_pagar = cliente.cantidad_pagar\n",
    "        self.cliente_vip = cliente.vip\n",
    "        \n",
    "        print(f'El cliente {self.cliente_nombre} está siendo atentido por {self.nombre} con identificación {self.numero_empleado}')\n",
    "        print(f'El cliente {self.cliente_nombre} tiene en la cesta lo siguiente {self.cliente_cesta}')\n",
    "        print(f'Se tendrá que abonar la siguiente cantidad: {self.total_pagar}€')\n",
    "        if self.cliente_vip:\n",
    "            print(f'El cliente {self.cliente_nombre} es VIP, por lo que se le hará un descuento del 15%')\n",
    "            print(f'Una vez aplicado el descuento, se tendrá que abonar la siguiente cantidad : {(self.total_pagar*0.85):.2f}€')\n",
    "        "
   ]
  },
  {
   "cell_type": "code",
   "execution_count": 4,
   "metadata": {},
   "outputs": [],
   "source": [
    "class Tienda:\n",
    "    \n",
    "    def __init__(self,clientes=[],cajeras=[]):\n",
    "        self.lista_clientes = clientes\n",
    "        self.lista_cajeras = cajeras\n",
    "        \n",
    "    def proceso_compra(self):\n",
    "        for indice_cliente, cliente in enumerate(self.lista_clientes):\n",
    "            if indice_cliente % 2 == 0:\n",
    "                cliente.pagar()\n",
    "                self.lista_cajeras[0].atender_cliente(cliente)\n",
    "                print(f'El cliente {cliente.nombre_cliente} ha pagado')\n",
    "                print('\\n')\n",
    "            else:\n",
    "                cliente.pagar()\n",
    "                self.lista_cajeras[1].atender_cliente(cliente)\n",
    "                print(f'El cliente {cliente.nombre_cliente} ha pagado')\n",
    "                print('\\n')\n",
    "        "
   ]
  },
  {
   "cell_type": "code",
   "execution_count": 5,
   "metadata": {},
   "outputs": [],
   "source": [
    "#clientes\n",
    "monitor_1 = Compra(id_producto = 53532, marca_producto='Asus', precio=325.32, pulgadas_producto= 27)\n",
    "monitor_2 = Compra(id_producto = 75453, marca_producto='LG', precio=125, pulgadas_producto= 21)\n",
    "cliente_1 = Cliente(nombre_cliente='Juan',cesta_cliente=[monitor_1.cesto_compra_id, monitor_2.cesto_compra_id], vip=True)\n",
    "\n",
    "\n",
    "ordenador_1 = Compra(id_producto=5309, marca_producto='hp', precio= 1943.43, capacidad_disco_duro='1TB',ram='16gb')\n",
    "television_1 = Compra(id_producto=2314, marca_producto='LG', precio= 599.99, pulgadas_producto=60)\n",
    "cliente_2 = Cliente(nombre_cliente='Alberto', cesta_cliente=[ordenador_1.cesto_compra_id,television_1.cesto_compra_id])\n",
    "\n",
    "\n",
    "ordenador_2 = Compra(id_producto=5464, marca_producto='Asus', precio= 1341.35, capacidad_disco_duro='1TB',ram='8gb')\n",
    "television_2 = Compra(id_producto=1232, marca_producto='Samsung', precio= 785.99, pulgadas_producto=55)\n",
    "cliente_3 = Cliente(nombre_cliente='Lucia', cesta_cliente=[ordenador_2.cesto_compra_id,television_2.cesto_compra_id])\n",
    "\n",
    "#cajeras\n",
    "cajera_1 = Cajera(numero_empleado=4213, nombre='Luis')\n",
    "cajera_2 = Cajera(numero_empleado=6423, nombre='Marta')"
   ]
  },
  {
   "cell_type": "code",
   "execution_count": 6,
   "metadata": {},
   "outputs": [
    {
     "name": "stdout",
     "output_type": "stream",
     "text": [
      "El cliente Juan se dispone a pagar\n",
      "El cliente Juan está siendo atentido por Luis con identificación 4213\n",
      "El cliente Juan tiene en la cesta lo siguiente [{'id': 53532, 'caracteristicas': {'marca': 'Asus', 'pulgadas': 27, 'capacidad_disco_duro': None, 'ram': None, 'precio': 325.32}}, {'id': 75453, 'caracteristicas': {'marca': 'LG', 'pulgadas': 21, 'capacidad_disco_duro': None, 'ram': None, 'precio': 125}}]\n",
      "Se tendrá que abonar la siguiente cantidad: 450.32€\n",
      "El cliente Juan es VIP, por lo que se le hará un descuento del 15%\n",
      "Una vez aplicado el descuento, se tendrá que abonar la siguiente cantidad : 382.77€\n",
      "El cliente Juan ha pagado\n",
      "\n",
      "\n",
      "El cliente Alberto se dispone a pagar\n",
      "El cliente Alberto está siendo atentido por Marta con identificación 6423\n",
      "El cliente Alberto tiene en la cesta lo siguiente [{'id': 5309, 'caracteristicas': {'marca': 'hp', 'pulgadas': None, 'capacidad_disco_duro': '1TB', 'ram': '16gb', 'precio': 1943.43}}, {'id': 2314, 'caracteristicas': {'marca': 'LG', 'pulgadas': 60, 'capacidad_disco_duro': None, 'ram': None, 'precio': 599.99}}]\n",
      "Se tendrá que abonar la siguiente cantidad: 2543.42€\n",
      "El cliente Alberto ha pagado\n",
      "\n",
      "\n",
      "El cliente Lucia se dispone a pagar\n",
      "El cliente Lucia está siendo atentido por Luis con identificación 4213\n",
      "El cliente Lucia tiene en la cesta lo siguiente [{'id': 5464, 'caracteristicas': {'marca': 'Asus', 'pulgadas': None, 'capacidad_disco_duro': '1TB', 'ram': '8gb', 'precio': 1341.35}}, {'id': 1232, 'caracteristicas': {'marca': 'Samsung', 'pulgadas': 55, 'capacidad_disco_duro': None, 'ram': None, 'precio': 785.99}}]\n",
      "Se tendrá que abonar la siguiente cantidad: 2127.34€\n",
      "El cliente Lucia ha pagado\n",
      "\n",
      "\n"
     ]
    }
   ],
   "source": [
    "Tienda(clientes=[cliente_1, cliente_2, cliente_3], cajeras=[cajera_1,cajera_2]).proceso_compra()"
   ]
  },
  {
   "cell_type": "code",
   "execution_count": null,
   "metadata": {},
   "outputs": [],
   "source": []
  }
 ],
 "metadata": {
  "kernelspec": {
   "display_name": "Python 3",
   "language": "python",
   "name": "python3"
  },
  "language_info": {
   "codemirror_mode": {
    "name": "ipython",
    "version": 3
   },
   "file_extension": ".py",
   "mimetype": "text/x-python",
   "name": "python",
   "nbconvert_exporter": "python",
   "pygments_lexer": "ipython3",
   "version": "3.9.13"
  }
 },
 "nbformat": 4,
 "nbformat_minor": 4
}
