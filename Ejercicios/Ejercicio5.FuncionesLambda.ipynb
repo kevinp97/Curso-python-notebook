{
 "cells": [
  {
   "cell_type": "markdown",
   "metadata": {},
   "source": [
    "## Ejercicio5. Funciones Lambda"
   ]
  },
  {
   "cell_type": "markdown",
   "metadata": {},
   "source": [
    "A partir del siguiente listado de emails:\n",
    "lista_emails = [\"asdasdas.es\",\"asdas asdsdsa@sda.e\",\"asdasd@asdas@asdsad.es\", \"asdad@a.es\", \"a sgsdfsd@a.esfa.sfasdf\", \"asdas.dasd@as.dsfd.as.es \"]\n",
    "- obtener, los nombres de usuario de aquellos emails que sean validos (valido: 1@, no tiene espacios en blanco, despues de la @ hay 1 punto)\n",
    "- indicar el número de emails validos que hay dentro del listado\n"
   ]
  },
  {
   "cell_type": "markdown",
   "metadata": {},
   "source": [
    "Condiciones:\n",
    "\n",
    "     Haremos un strip para eliminar los espacios del principio y del final de cada elemento de la lista\n",
    "     Un @: contador_arroba = mail.count('@')\n",
    "     No espacios en blanco: contador_de_espacios = mail.count(' ')\n",
    "     Despues del @ hay un .: mail.split('@')[-1].count('.')\n"
   ]
  },
  {
   "cell_type": "code",
   "execution_count": 1,
   "metadata": {},
   "outputs": [],
   "source": [
    "lista_emails = [\"asdasdas.es\",\"asdas asdsdsa@sda.e\",\"asdasd@asdas@asdsad.es\", \"asdad@a.es\", \"a sgsdfsd@a.esfa.sfasdf\", \"asdas.dasd@as.dsfd.as.es \"]\n"
   ]
  },
  {
   "cell_type": "code",
   "execution_count": 2,
   "metadata": {},
   "outputs": [
    {
     "data": {
      "text/plain": [
       "['asdasdas.es',\n",
       " 'asdas asdsdsa@sda.e',\n",
       " 'asdasd@asdas@asdsad.es',\n",
       " 'asdad@a.es',\n",
       " 'a sgsdfsd@a.esfa.sfasdf',\n",
       " 'asdas.dasd@as.dsfd.as.es']"
      ]
     },
     "execution_count": 2,
     "metadata": {},
     "output_type": "execute_result"
    }
   ],
   "source": [
    "emails_strip = list(map(lambda x: x.strip(), lista_emails)) #Aplicamos el strip para eliminar espacios al principio y al final del string\n",
    "emails_strip"
   ]
  },
  {
   "cell_type": "code",
   "execution_count": 3,
   "metadata": {},
   "outputs": [
    {
     "data": {
      "text/plain": [
       "['asdad@a.es', 'asdas.dasd@as.dsfd.as.es']"
      ]
     },
     "execution_count": 3,
     "metadata": {},
     "output_type": "execute_result"
    }
   ],
   "source": [
    "#Aplicamos el filtro para validar los emails, en el orden del enunciado\n",
    "validacion_emails = list(filter(lambda x: x.count('@') == 1 and x.count(' ') == 0 and x.split('@')[-1].count('.') > 0, emails_strip))\n",
    "validacion_emails"
   ]
  },
  {
   "cell_type": "code",
   "execution_count": 4,
   "metadata": {},
   "outputs": [
    {
     "data": {
      "text/plain": [
       "['asdad', 'asdas.dasd']"
      ]
     },
     "execution_count": 4,
     "metadata": {},
     "output_type": "execute_result"
    }
   ],
   "source": [
    "#Para obtener el nombre de usuarios, separamos los correos válidos por el @ y nos quedamos con el primer elemento\n",
    "nombres_usuarios_emails = list(map(lambda x: x.split('@')[0],validacion_emails))\n",
    "nombres_usuarios_emails"
   ]
  },
  {
   "cell_type": "code",
   "execution_count": 5,
   "metadata": {},
   "outputs": [
    {
     "name": "stdout",
     "output_type": "stream",
     "text": [
      "El listado de emails válidos estan compuestos por 2 y son: ['asdad@a.es', 'asdas.dasd@as.dsfd.as.es']\n"
     ]
    }
   ],
   "source": [
    "print(f'El listado de emails válidos estan compuestos por {len(validacion_emails)} y son: {validacion_emails}')"
   ]
  },
  {
   "cell_type": "code",
   "execution_count": 6,
   "metadata": {},
   "outputs": [],
   "source": [
    "from functools import reduce"
   ]
  },
  {
   "cell_type": "code",
   "execution_count": 7,
   "metadata": {},
   "outputs": [
    {
     "data": {
      "text/plain": [
       "2"
      ]
     },
     "execution_count": 7,
     "metadata": {},
     "output_type": "execute_result"
    }
   ],
   "source": [
    "#Para conocer el numero de emails validos, recorremos el listado y contamos aquellos valores que tengan @, como solo hay 2 correos el resultado será 2\n",
    "numero_emails_validos = reduce(lambda a,b: a+b,validacion_emails).count('@')\n",
    "numero_emails_validos"
   ]
  },
  {
   "cell_type": "code",
   "execution_count": null,
   "metadata": {},
   "outputs": [],
   "source": []
  }
 ],
 "metadata": {
  "kernelspec": {
   "display_name": "Python 3",
   "language": "python",
   "name": "python3"
  },
  "language_info": {
   "codemirror_mode": {
    "name": "ipython",
    "version": 3
   },
   "file_extension": ".py",
   "mimetype": "text/x-python",
   "name": "python",
   "nbconvert_exporter": "python",
   "pygments_lexer": "ipython3",
   "version": "3.9.13"
  }
 },
 "nbformat": 4,
 "nbformat_minor": 4
}
