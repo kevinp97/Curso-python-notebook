{
 "cells": [
  {
   "cell_type": "markdown",
   "metadata": {},
   "source": [
    "# Ejercicio 6. Programacion Orientada Objetos"
   ]
  },
  {
   "cell_type": "markdown",
   "metadata": {},
   "source": [
    "**Crear la clase Alumno**  \n",
    "-nombre  \n",
    "-apellidos  \n",
    "-dni  \n",
    "-notas: diccionario <K:asignatura, V:nota>  \n",
    "estudiar() --> el alumno nombre esta estudiando asignatura obtenida de manera aleatoria del diccionario\n",
    "    \n",
    "**Funcionalidad**    \n",
    "3 alumnos --> lista -->  \n",
    "    +Nota media de cada alumno --> El alumno nombre tiene una nota media de ...  \n",
    "    +Nota media de todos los alumnos --> La nota media de todos los alumnos es ...\n",
    "   \n",
    "Tradicional y usando funciones lambda\n"
   ]
  },
  {
   "cell_type": "markdown",
   "metadata": {},
   "source": [
    "**Clase**"
   ]
  },
  {
   "cell_type": "code",
   "execution_count": 196,
   "metadata": {},
   "outputs": [],
   "source": [
    "import random\n",
    "import numpy as np\n",
    "from functools import reduce"
   ]
  },
  {
   "cell_type": "code",
   "execution_count": 182,
   "metadata": {},
   "outputs": [],
   "source": [
    "class Alumno:\n",
    "    def __init__(self, nombre, apellidos, dni, **kwargs):\n",
    "        self.nombre = nombre\n",
    "        self.apellidos = apellidos\n",
    "        self.dni = dni\n",
    "        self.notas = kwargs\n",
    "        \n",
    "    def estudiar(self):\n",
    "        self.asignaturas = list(self.notas.keys()) #añadimos las claves de las notas, que son las asignaturas a una lista\n",
    "        self.num_aleatorio = random.randint(0,len(self.asignaturas)-1) #generamos un numero aleatorio entre el 0 y el tamaño de la lista -1 \n",
    "        print(f'El alumno {self.nombre} esta estudiando {self.asignaturas[self.num_aleatorio]}')\n",
    "    \n",
    "    def notas(self):\n",
    "        return self.notas\n",
    "    \n",
    "    def nombre(self):\n",
    "        return self.nombre\n",
    "    \n"
   ]
  },
  {
   "cell_type": "markdown",
   "metadata": {},
   "source": [
    "**Funcionalidad**"
   ]
  },
  {
   "cell_type": "code",
   "execution_count": 187,
   "metadata": {},
   "outputs": [],
   "source": [
    "alumno_1 = Alumno('Nombre1','Apellido1','3949283f',matematicas=6, lengua=5, fisica=9)\n",
    "alumno_2 = Alumno('Nombre2','Apellido2','9852304e',frances=7, quimica=4, biologia=8)\n",
    "alumno_3 = Alumno('Nombre3','Apellido3','5673238n',informatica=9, lengua=10, ingles=10)"
   ]
  },
  {
   "cell_type": "code",
   "execution_count": 202,
   "metadata": {},
   "outputs": [],
   "source": [
    "''' Tradicional '''\n",
    "def datos_alumnos(alum1,alum2,alum3):\n",
    "    lista_notas_alumnos = [alum1.notas,alum2.notas,alum3.notas]\n",
    "    lista_nombres_alumnos = [alum1.nombre,alum2.nombre,alum3.nombre]\n",
    "    \n",
    "    media_global = []\n",
    "    for index_alumno, alumno in enumerate(lista_notas_alumnos):\n",
    "        media_alumno = []\n",
    "        for asignatura in alumno:\n",
    "            media_alumno.append(alumno[asignatura]) #añadimos la nota de cada asignatura a la lista para alumno individual\n",
    "            media_global.append(alumno[asignatura]) #añadimos la nota de cada asignatura a la lista para todos los alumnos\n",
    "        print(f'Nota media del alumno {lista_nombres_alumnos[index_alumno]} es: {np.mean(media_alumno):.1f} ')\n",
    "    print(f'Nota media global {np.mean(media_global):.1f}')"
   ]
  },
  {
   "cell_type": "code",
   "execution_count": 203,
   "metadata": {},
   "outputs": [
    {
     "name": "stdout",
     "output_type": "stream",
     "text": [
      "Nota media del alumno Nombre1 es: 6.7 \n",
      "Nota media del alumno Nombre2 es: 6.3 \n",
      "Nota media del alumno Nombre3 es: 9.7 \n",
      "Nota media global 7.6\n"
     ]
    }
   ],
   "source": [
    "datos_alumnos(alumno_1,alumno_2,alumno_3)"
   ]
  },
  {
   "cell_type": "code",
   "execution_count": null,
   "metadata": {},
   "outputs": [],
   "source": []
  },
  {
   "cell_type": "code",
   "execution_count": 231,
   "metadata": {},
   "outputs": [
    {
     "name": "stdout",
     "output_type": "stream",
     "text": [
      "Nota media del alumno Nombre1 es: 6.7 \n",
      "Nota media del alumno Nombre2 es: 6.3 \n",
      "Nota media del alumno Nombre3 es: 9.7 \n",
      "Nota media global 7.6\n"
     ]
    }
   ],
   "source": [
    "''' Usando lambdas '''\n",
    "notas_por_alumno = [list(alumno_1.notas.values()), list(alumno_2.notas.values()), list(alumno_3.notas.values())]\n",
    "nombre_de_alumnos = [alumno_1.nombre, alumno_2.nombre, alumno_3.nombre]\n",
    "nota_media_alum1 = np.mean(notas_por_alumno[0])\n",
    "nota_media_alum2 = np.mean(notas_por_alumno[1])\n",
    "nota_media_alum3 = np.mean(notas_por_alumno[2])\n",
    "nota_media_global = np.mean(reduce(lambda x,y: x+y, notas_por_alumno))\n",
    "print(f'Nota media del alumno {nombre_de_alumnos[0]} es: {nota_media_alum1:.1f} \\nNota media del alumno {nombre_de_alumnos[1]} es: {nota_media_alum2:.1f} \\nNota media del alumno {nombre_de_alumnos[2]} es: {nota_media_alum3:.1f} \\nNota media global {nota_media_global:.1f}')\n"
   ]
  },
  {
   "cell_type": "code",
   "execution_count": null,
   "metadata": {},
   "outputs": [],
   "source": []
  }
 ],
 "metadata": {
  "kernelspec": {
   "display_name": "Python 3",
   "language": "python",
   "name": "python3"
  },
  "language_info": {
   "codemirror_mode": {
    "name": "ipython",
    "version": 3
   },
   "file_extension": ".py",
   "mimetype": "text/x-python",
   "name": "python",
   "nbconvert_exporter": "python",
   "pygments_lexer": "ipython3",
   "version": "3.9.13"
  }
 },
 "nbformat": 4,
 "nbformat_minor": 4
}
