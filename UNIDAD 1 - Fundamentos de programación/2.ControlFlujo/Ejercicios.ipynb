{
 "cells": [
  {
   "cell_type": "markdown",
   "id": "fc18b2c0-14ae-4547-8f0f-dc04e519d304",
   "metadata": {},
   "source": [
    "## Ejercicio 1 "
   ]
  },
  {
   "cell_type": "markdown",
   "id": "c7799b77-eaa3-43c2-8809-5b64c2e68eec",
   "metadata": {},
   "source": [
    "Pintar menú mientras que la opción sea diferente de 4.\n",
    "\n",
    "1. Pintar cuadrado --> \"Has seleccionado la opción 1\"\n",
    "    - Indicar tamaño del cuadrado.\n",
    "    - Indicar el símbolo con el cual dibujarlo.\n",
    "2. Validar email --> \"Has seleccionado la opción 2\"\n",
    "    - Lista con 3 emails.\n",
    "    - Validar cada uno de los emails.\n",
    "    - Si un email no es válido, indicar que el email x no es correcto y el motivo por el cual no es correcto.\n",
    "    - Validación 1: No puede tener espacios en blanco.\n",
    "    - Validación 2: Solo puede tener un @.\n",
    "    - Validación 3: Después del @ tiene que haber al menos 1 punto.\n",
    "    - Validación 4: La distancia entre el @ y el . tiene que ser al menos de 2 caracteres.\n",
    "    - Validación 5: Después del último . tiene que haber entre 2 y 5 caracteres.\n",
    "3. Insertar alumnos --> \"Has seleccionado la opción 3\"\n",
    "    - \n",
    "4. Salir --> \"Has seleccionado la opción 4 y dice adiós\"\n",
    "\n",
    "Si se selecciona otra acción se pone como incorrecta\n",
    "\n",
    "Seleccione una opción: con input"
   ]
  },
  {
   "cell_type": "code",
   "execution_count": 10,
   "id": "ccfd0dab-554a-41f5-9a8c-71f38ee8f7bc",
   "metadata": {},
   "outputs": [
    {
     "name": "stdout",
     "output_type": "stream",
     "text": [
      "Menú interactivo: \n",
      "\n",
      " 1. Pintar cuadrado \n",
      " 2. Validar email \n",
      " 3. Insertar alumnos \n",
      " 4. Salir\n",
      "Seleccione una opción\n"
     ]
    },
    {
     "name": "stdin",
     "output_type": "stream",
     "text": [
      " 2\n"
     ]
    },
    {
     "name": "stdout",
     "output_type": "stream",
     "text": [
      "Has seleccionado la opción 2. \n",
      "\n",
      " Validando emails.\n",
      "el mail email1@mail.com es válido\n",
      "El email pytho n@py.es es inválido debido a que contiene espacios en blanco\n",
      "El email pruebamail@g.mail.com es inválido debido a que no contiene al menos 2 caracteres entre el @ y el .\n",
      "\n",
      "\n",
      "\n",
      "Menú interactivo: \n",
      "\n",
      " 1. Pintar cuadrado \n",
      " 2. Validar email \n",
      " 3. Insertar alumnos \n",
      " 4. Salir\n",
      "Seleccione una opción\n"
     ]
    },
    {
     "name": "stdin",
     "output_type": "stream",
     "text": [
      " 4\n"
     ]
    },
    {
     "name": "stdout",
     "output_type": "stream",
     "text": [
      "Has seleccionado la opción 4. \n",
      "\n",
      " Saliendo, adiós.\n",
      "\n",
      "\n",
      "\n"
     ]
    }
   ],
   "source": [
    "lista_mails = ['email1@mail.com', 'pytho n@py.es', 'pruebamail@g.mail.com']\n",
    "condicion_salida = False\n",
    "while(condicion_salida == False):\n",
    "    print(\"Menú interactivo: \\n\\n 1. Pintar cuadrado \\n 2. Validar email \\n 3. Insertar alumnos \\n 4. Salir\")\n",
    "    print(\"Seleccione una opción\")\n",
    "    opcion = int(input())    \n",
    "    if opcion == 1:\n",
    "        print(\"Has seleccionado la opción 1. \\n\")\n",
    "        base = int(input(\"Introduzca la base\"))\n",
    "        altura = int(input(\"Introduzca la altura\"))\n",
    "        simbolo = input(\"Introduzca el simbolo para dibujar el cuadrado\")\n",
    "        linea_superior_inferior = simbolo+\" \"\n",
    "        \n",
    "        for linea in range(altura):\n",
    "            if linea == 0 or linea == altura-1:\n",
    "                print(base*(linea_superior_inferior))\n",
    "            else:\n",
    "                print(f\"{simbolo}\"+(' '*(len(base*(linea_superior_inferior))-3))+f\"{simbolo}\")\n",
    "                \n",
    "                \n",
    "            \n",
    "    elif opcion == 2:\n",
    "        print(\"Has seleccionado la opción 2. \\n\\n Validando emails.\")\n",
    "        for mail in lista_mails:\n",
    "            correcto = True\n",
    "            mail = mail.strip()\n",
    "            contador_de_espacios = mail.count(' ')\n",
    "            contador_arroba = mail.count('@')\n",
    "            validacion_punto = mail.split('@')[-1].count('.')\n",
    "            validacion_distancia_punto = mail.split('@')[-1].find('.')\n",
    "            validacion_ultimo_punto = len(mail.split('.')[-1])\n",
    "            \n",
    "            if contador_de_espacios > 0:\n",
    "                print(f'El email {mail} es inválido debido a que contiene espacios en blanco')\n",
    "                correcto = False\n",
    "\n",
    "            if contador_arroba != 1:\n",
    "                print(f'El email {mail} es inválido debido a que tiene 0 o más de 1 @')\n",
    "                correcto = False\n",
    "                \n",
    "            if validacion_punto == 0:\n",
    "                print(f'El email {mail} es inválido debido a que no contiene al menos 1 punto después del @')\n",
    "                correcto = False\n",
    "                \n",
    "            if validacion_distancia_punto < 2:\n",
    "                print(f'El email {mail} es inválido debido a que no contiene al menos 2 caracteres entre el @ y el .')\n",
    "                correcto = False\n",
    "                \n",
    "            if validacion_ultimo_punto < 2 or validacion_ultimo_punto > 5:\n",
    "                print(f'El email {mail} es inválido debido a que no contiene entre 2 y 5 caracteres después del último punto')\n",
    "                correcto = False\n",
    "            \n",
    "            if correcto:\n",
    "                print(f'el mail {mail} es válido')\n",
    "        \n",
    "    elif opcion == 3:\n",
    "        print(\"Has seleccionado la opción 3. \\n\\n Inserte alumno.\")\n",
    "        \n",
    "        \n",
    "    elif opcion == 4:\n",
    "        print(\"Has seleccionado la opción 4. \\n\\n Saliendo, adiós.\")\n",
    "        condicion_salida = True\n",
    "    \n",
    "    else:\n",
    "        print(\"Opción incorrecta, pruebe de nuevo.\")\n",
    "    \n",
    "    print(\"\\n\\n\")\n",
    "\n",
    "# else:\n",
    "#     print(f\"La lista de alumnos es: {lista_alumnos}\")\n",
    "    "
   ]
  }
 ],
 "metadata": {
  "kernelspec": {
   "display_name": "Python 3",
   "language": "python",
   "name": "python3"
  },
  "language_info": {
   "codemirror_mode": {
    "name": "ipython",
    "version": 3
   },
   "file_extension": ".py",
   "mimetype": "text/x-python",
   "name": "python",
   "nbconvert_exporter": "python",
   "pygments_lexer": "ipython3",
   "version": "3.9.13"
  }
 },
 "nbformat": 4,
 "nbformat_minor": 5
}
