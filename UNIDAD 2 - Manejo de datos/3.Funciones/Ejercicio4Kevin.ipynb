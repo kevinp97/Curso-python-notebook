{
 "cells": [
  {
   "cell_type": "markdown",
   "id": "c2104dab-9562-4f00-bd95-d80235da4e7d",
   "metadata": {},
   "source": [
    "NUEVO EJERCICIO: COLECCIONES COLEGIO\n",
    "\n",
    "Gestionar colegio con 3 aulas:\n",
    "    Aula 1: Inicialmente vacía\n",
    "    Aula 2: Inicialmente vacía\n",
    "    Aula 3: Inicialmente vacía\n",
    "\n",
    "Pintamos un menú con:\n",
    "1. Insertar alumno -> En que aula quieres meter al alumno -> DNI, Nombre y Apellidos.\n",
    "2. Mostrar alumnos colegio -> Todos los alumnos del colegio por aula con toda su información.\n",
    "3. Mostrar alumnos aula -> De que aula queremos mostrar los alumnos.\n",
    "4. Buscar alumno -> Preguntar DNI -> En que aula se encuentra el alumno que tiene ese DNI y si no lo encuentra poner un mensaje de que no se encuentra\n",
    "5. Borrar alumno (Opcional)\n",
    "6. Salir"
   ]
  },
  {
   "cell_type": "code",
   "execution_count": 15,
   "id": "f00adaf1-aa59-461b-9538-e1d57fabe992",
   "metadata": {},
   "outputs": [],
   "source": [
    "def registrar_alumno(): #opcion 1\n",
    "    registro_alumnos_aux = {}\n",
    "  \n",
    "    dni_alumno = input('Introduzca DNI del alumno: ')\n",
    "    nombre_alumno = input('Introduzca nombre del alumno: ')\n",
    "    apellidos_alumno = input('Introduzca apellidos del alumno: ')\n",
    "            \n",
    "    registro_alumnos_aux['DNI'] = dni_alumno\n",
    "    registro_alumnos_aux['Nombre'] = nombre_alumno\n",
    "    registro_alumnos_aux['Apellidos'] = apellidos_alumno\n",
    "    \n",
    "    return registro_alumnos_aux\n",
    "\n",
    "def alumnos_por_aula(aula, registro_de_aulas): #opcion 3\n",
    "    try:\n",
    "        if aula == 1:\n",
    "            print(f'En el aula {aula} los alumnos son {len(registro_de_aulas[\"Aula 1\"])} \\n {registro_de_aulas[\"Aula 1\"]}')\n",
    "\n",
    "        elif aula == 2:\n",
    "            print(f'En el aula {aula} los alumnos son {len(registro_de_aulas[\"Aula 2\"])} \\n {registro_de_aulas[\"Aula 2\"]}')\n",
    "\n",
    "        elif aula == 3:\n",
    "            print(f'En el aula {aula} los alumnos son {len(registro_de_aulas[\"Aula 3\"])} \\n {registro_de_aulas[\"Aula 3\"]}')\n",
    "\n",
    "        else:\n",
    "            print('Opción no válida, vuelta al menú principal')\n",
    "    \n",
    "    except:\n",
    "        print(\"No se encuentran alumnos en esta aula\")\n",
    "        \n",
    "def buscar_eliminar_alumno(opcion_aux, registro_aulas_aux): #opcion 4,5\n",
    "    registrado_en_aula = False\n",
    "    dni_teclado = input('Introduzca el DNI del alumno: ')\n",
    "        \n",
    "    for aula,alumnos in registro_aulas_aux.items():\n",
    "        for indice,alumno in enumerate(alumnos):\n",
    "            if alumno['DNI'] == dni_teclado:\n",
    "                if opcion_aux == 5:\n",
    "                    registro_aulas_aux[aula].pop(indice)\n",
    "                    \n",
    "                aula_alumno = aula\n",
    "                registrado_en_aula = True\n",
    "    \n",
    "    if opcion_aux == 4:\n",
    "        if registrado_en_aula:\n",
    "            print(f'El alumno con dni {dni_teclado} se encuentra en el {aula_alumno}') \n",
    "        else:\n",
    "            print(f\"El alumno con dni {dni_teclado} no se encuentra en ninguna aula\")\n",
    "            \n",
    "    elif opcion_aux == 5:\n",
    "        if registrado_en_aula:\n",
    "            print(f'El alumno con dni {dni_teclado} ha sido eliminado del {aula_alumno}') \n",
    "        else:\n",
    "            print(f\"El alumno con dni {dni_teclado} no se encuentra en ninguna aula\")\n",
    "    "
   ]
  },
  {
   "cell_type": "code",
   "execution_count": null,
   "id": "daf370fa-5737-44e0-91f3-65e66f2343eb",
   "metadata": {},
   "outputs": [
    {
     "name": "stdout",
     "output_type": "stream",
     "text": [
      "Menú interactivo: \n",
      "\n",
      " 1. Insertar alumno \n",
      " 2. Mostrar alumnos del colegio \n",
      " 3. Mostrar alumnos de un aula determinada \n",
      " 4. Buscar alumno por DNI \n",
      " 5. Borrar alumno por DNI \n",
      " 6. Salir del menú\n"
     ]
    },
    {
     "name": "stdin",
     "output_type": "stream",
     "text": [
      "Introducza opción:  1\n",
      "Escriba en que aula quiere añadir al alumno: \n",
      " Aula 1 : 1 \n",
      " Aula 2 : 2 \n",
      " Aula 3 : 3 \n",
      " 1\n",
      "Introduzca DNI del alumno:  11\n",
      "Introduzca nombre del alumno:  qq\n",
      "Introduzca apellidos del alumno:  ww\n"
     ]
    },
    {
     "name": "stdout",
     "output_type": "stream",
     "text": [
      "\n",
      "\n",
      "\n",
      "Menú interactivo: \n",
      "\n",
      " 1. Insertar alumno \n",
      " 2. Mostrar alumnos del colegio \n",
      " 3. Mostrar alumnos de un aula determinada \n",
      " 4. Buscar alumno por DNI \n",
      " 5. Borrar alumno por DNI \n",
      " 6. Salir del menú\n"
     ]
    },
    {
     "name": "stdin",
     "output_type": "stream",
     "text": [
      "Introducza opción:  2\n"
     ]
    },
    {
     "name": "stdout",
     "output_type": "stream",
     "text": [
      "Aula 1 : Alumnos totales: 1  \n",
      " [{'DNI': '11', 'Nombre': 'qq', 'Apellidos': 'ww'}]\n",
      "\n",
      "\n",
      "\n",
      "Menú interactivo: \n",
      "\n",
      " 1. Insertar alumno \n",
      " 2. Mostrar alumnos del colegio \n",
      " 3. Mostrar alumnos de un aula determinada \n",
      " 4. Buscar alumno por DNI \n",
      " 5. Borrar alumno por DNI \n",
      " 6. Salir del menú\n"
     ]
    },
    {
     "name": "stdin",
     "output_type": "stream",
     "text": [
      "Introducza opción:  3\n",
      "Escriba el aula para ver los alumnos: \n",
      " Aula 1 : 1 \n",
      " Aula 2 : 2 \n",
      " Aula 3 : 3 \n",
      " 1\n"
     ]
    },
    {
     "name": "stdout",
     "output_type": "stream",
     "text": [
      "En el aula 1 los alumnos son 1 \n",
      " [{'DNI': '11', 'Nombre': 'qq', 'Apellidos': 'ww'}]\n",
      "\n",
      "\n",
      "\n",
      "Menú interactivo: \n",
      "\n",
      " 1. Insertar alumno \n",
      " 2. Mostrar alumnos del colegio \n",
      " 3. Mostrar alumnos de un aula determinada \n",
      " 4. Buscar alumno por DNI \n",
      " 5. Borrar alumno por DNI \n",
      " 6. Salir del menú\n"
     ]
    },
    {
     "name": "stdin",
     "output_type": "stream",
     "text": [
      "Introducza opción:  3\n",
      "Escriba el aula para ver los alumnos: \n",
      " Aula 1 : 1 \n",
      " Aula 2 : 2 \n",
      " Aula 3 : 3 \n",
      " 2\n"
     ]
    },
    {
     "name": "stdout",
     "output_type": "stream",
     "text": [
      "No se encuentran alumnos en esta aula\n",
      "\n",
      "\n",
      "\n",
      "Menú interactivo: \n",
      "\n",
      " 1. Insertar alumno \n",
      " 2. Mostrar alumnos del colegio \n",
      " 3. Mostrar alumnos de un aula determinada \n",
      " 4. Buscar alumno por DNI \n",
      " 5. Borrar alumno por DNI \n",
      " 6. Salir del menú\n"
     ]
    },
    {
     "name": "stdin",
     "output_type": "stream",
     "text": [
      "Introducza opción:  4\n",
      "Introduzca el DNI del alumno:  11\n"
     ]
    },
    {
     "name": "stdout",
     "output_type": "stream",
     "text": [
      "El alumno con dni 11 se encuentra en el Aula 1\n",
      "\n",
      "\n",
      "\n",
      "Menú interactivo: \n",
      "\n",
      " 1. Insertar alumno \n",
      " 2. Mostrar alumnos del colegio \n",
      " 3. Mostrar alumnos de un aula determinada \n",
      " 4. Buscar alumno por DNI \n",
      " 5. Borrar alumno por DNI \n",
      " 6. Salir del menú\n"
     ]
    },
    {
     "name": "stdin",
     "output_type": "stream",
     "text": [
      "Introducza opción:  4\n",
      "Introduzca el DNI del alumno:  645\n"
     ]
    },
    {
     "name": "stdout",
     "output_type": "stream",
     "text": [
      "El alumno con dni 645 no se encuentra en ninguna aula\n",
      "\n",
      "\n",
      "\n",
      "Menú interactivo: \n",
      "\n",
      " 1. Insertar alumno \n",
      " 2. Mostrar alumnos del colegio \n",
      " 3. Mostrar alumnos de un aula determinada \n",
      " 4. Buscar alumno por DNI \n",
      " 5. Borrar alumno por DNI \n",
      " 6. Salir del menú\n"
     ]
    },
    {
     "name": "stdin",
     "output_type": "stream",
     "text": [
      "Introducza opción:  5\n",
      "Introduzca el DNI del alumno:  111\n"
     ]
    },
    {
     "name": "stdout",
     "output_type": "stream",
     "text": [
      "El alumno con dni 111 no se encuentra en ninguna aula\n",
      "\n",
      "\n",
      "\n",
      "Menú interactivo: \n",
      "\n",
      " 1. Insertar alumno \n",
      " 2. Mostrar alumnos del colegio \n",
      " 3. Mostrar alumnos de un aula determinada \n",
      " 4. Buscar alumno por DNI \n",
      " 5. Borrar alumno por DNI \n",
      " 6. Salir del menú\n"
     ]
    },
    {
     "name": "stdin",
     "output_type": "stream",
     "text": [
      "Introducza opción:  5\n",
      "Introduzca el DNI del alumno:  111\n"
     ]
    },
    {
     "name": "stdout",
     "output_type": "stream",
     "text": [
      "El alumno con dni 111 no se encuentra en ninguna aula\n",
      "\n",
      "\n",
      "\n",
      "Menú interactivo: \n",
      "\n",
      " 1. Insertar alumno \n",
      " 2. Mostrar alumnos del colegio \n",
      " 3. Mostrar alumnos de un aula determinada \n",
      " 4. Buscar alumno por DNI \n",
      " 5. Borrar alumno por DNI \n",
      " 6. Salir del menú\n"
     ]
    },
    {
     "name": "stdin",
     "output_type": "stream",
     "text": [
      "Introducza opción:  5\n",
      "Introduzca el DNI del alumno:  11\n"
     ]
    },
    {
     "name": "stdout",
     "output_type": "stream",
     "text": [
      "El alumno con dni 11 ha sido eliminado del Aula 1\n",
      "\n",
      "\n",
      "\n",
      "Menú interactivo: \n",
      "\n",
      " 1. Insertar alumno \n",
      " 2. Mostrar alumnos del colegio \n",
      " 3. Mostrar alumnos de un aula determinada \n",
      " 4. Buscar alumno por DNI \n",
      " 5. Borrar alumno por DNI \n",
      " 6. Salir del menú\n"
     ]
    },
    {
     "name": "stdin",
     "output_type": "stream",
     "text": [
      "Introducza opción:  2\n"
     ]
    },
    {
     "name": "stdout",
     "output_type": "stream",
     "text": [
      "Aula 1 : Alumnos totales: 0  \n",
      " []\n",
      "\n",
      "\n",
      "\n",
      "Menú interactivo: \n",
      "\n",
      " 1. Insertar alumno \n",
      " 2. Mostrar alumnos del colegio \n",
      " 3. Mostrar alumnos de un aula determinada \n",
      " 4. Buscar alumno por DNI \n",
      " 5. Borrar alumno por DNI \n",
      " 6. Salir del menú\n"
     ]
    },
    {
     "name": "stdin",
     "output_type": "stream",
     "text": [
      "Introducza opción:  3\n",
      "Escriba el aula para ver los alumnos: \n",
      " Aula 1 : 1 \n",
      " Aula 2 : 2 \n",
      " Aula 3 : 3 \n",
      " 1\n"
     ]
    },
    {
     "name": "stdout",
     "output_type": "stream",
     "text": [
      "En el aula 1 los alumnos son 0 \n",
      " []\n",
      "\n",
      "\n",
      "\n",
      "Menú interactivo: \n",
      "\n",
      " 1. Insertar alumno \n",
      " 2. Mostrar alumnos del colegio \n",
      " 3. Mostrar alumnos de un aula determinada \n",
      " 4. Buscar alumno por DNI \n",
      " 5. Borrar alumno por DNI \n",
      " 6. Salir del menú\n"
     ]
    },
    {
     "name": "stdin",
     "output_type": "stream",
     "text": [
      "Introducza opción:  3\n",
      "Escriba el aula para ver los alumnos: \n",
      " Aula 1 : 1 \n",
      " Aula 2 : 2 \n",
      " Aula 3 : 3 \n",
      " 2\n"
     ]
    },
    {
     "name": "stdout",
     "output_type": "stream",
     "text": [
      "No se encuentran alumnos en esta aula\n",
      "\n",
      "\n",
      "\n",
      "Menú interactivo: \n",
      "\n",
      " 1. Insertar alumno \n",
      " 2. Mostrar alumnos del colegio \n",
      " 3. Mostrar alumnos de un aula determinada \n",
      " 4. Buscar alumno por DNI \n",
      " 5. Borrar alumno por DNI \n",
      " 6. Salir del menú\n"
     ]
    }
   ],
   "source": [
    "lista_alumnos_aula_1 = []\n",
    "lista_alumnos_aula_2 = []\n",
    "lista_alumnos_aula_3 = []\n",
    "registro_aulas = {}\n",
    "condicion_salida = False\n",
    "while (condicion_salida == False):\n",
    "    print(\"Menú interactivo: \\n\\n 1. Insertar alumno \\n 2. Mostrar alumnos del colegio \\n 3. Mostrar alumnos de un aula determinada \\n 4. Buscar alumno por DNI \\n 5. Borrar alumno por DNI \\n 6. Salir del menú\")\n",
    "    opcion = int(input('Introducza opción: '))\n",
    "    \n",
    "    if opcion == 1:\n",
    "        aula = int(input('Escriba en que aula quiere añadir al alumno: \\n Aula 1 : 1 \\n Aula 2 : 2 \\n Aula 3 : 3 \\n' ))\n",
    "        if aula == 1:\n",
    "            registro_alumnos = registrar_alumno()\n",
    "            \n",
    "            lista_alumnos_aula_1.append(registro_alumnos)\n",
    "            registro_aulas['Aula 1'] = lista_alumnos_aula_1\n",
    "            \n",
    "        elif aula == 2:\n",
    "            registro_alumnos = registrar_alumno()\n",
    "            \n",
    "            lista_alumnos_aula_2.append(registro_alumnos)\n",
    "            registro_aulas['Aula 2'] = lista_alumnos_aula_2\n",
    "\n",
    "            \n",
    "        elif aula == 3:\n",
    "            registro_alumnos = registrar_alumno()\n",
    "            \n",
    "            lista_alumnos_aula_3.append(registro_alumnos)\n",
    "            registro_aulas['Aula 3'] = lista_alumnos_aula_3\n",
    "            \n",
    "        else:\n",
    "            print('Opción no válida, vuelta al menú principal')\n",
    "            \n",
    "    \n",
    "    elif opcion == 2:\n",
    "        for clave,valor in registro_aulas.items():\n",
    "            print(clave,':',f'Alumnos totales: {len(valor)} ', f'\\n {valor}')\n",
    "    \n",
    "    elif opcion == 3:\n",
    "        mostrar_aula = int(input('Escriba el aula para ver los alumnos: \\n Aula 1 : 1 \\n Aula 2 : 2 \\n Aula 3 : 3 \\n' ))\n",
    "        alumnos_por_aula(mostrar_aula,registro_aulas)\n",
    "             \n",
    "    elif opcion == 4:\n",
    "        buscar_eliminar_alumno(opcion,registro_aulas)\n",
    "    \n",
    "    elif opcion == 5:\n",
    "        buscar_eliminar_alumno(opcion, registro_aulas)\n",
    "    \n",
    "    #Condición de salida\n",
    "    elif opcion == 6:\n",
    "        print('Saliendo del menú')\n",
    "        condicion_salida = True\n",
    "    else:\n",
    "        print(\"Opción incorrecta, pruebe de nuevo.\")\n",
    "    \n",
    "    print(\"\\n\\n\")\n",
    "        "
   ]
  },
  {
   "cell_type": "code",
   "execution_count": null,
   "id": "4549a1de-fe3f-40b3-b7e1-bfa08804af7a",
   "metadata": {},
   "outputs": [],
   "source": []
  }
 ],
 "metadata": {
  "kernelspec": {
   "display_name": "Python 3",
   "language": "python",
   "name": "python3"
  },
  "language_info": {
   "codemirror_mode": {
    "name": "ipython",
    "version": 3
   },
   "file_extension": ".py",
   "mimetype": "text/x-python",
   "name": "python",
   "nbconvert_exporter": "python",
   "pygments_lexer": "ipython3",
   "version": "3.9.13"
  }
 },
 "nbformat": 4,
 "nbformat_minor": 5
}
