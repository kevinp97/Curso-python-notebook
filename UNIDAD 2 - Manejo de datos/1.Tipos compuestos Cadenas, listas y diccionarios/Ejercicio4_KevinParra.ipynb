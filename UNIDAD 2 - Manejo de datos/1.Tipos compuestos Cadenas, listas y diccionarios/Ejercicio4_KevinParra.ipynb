{
 "cells": [
  {
   "cell_type": "markdown",
   "id": "d3a045e6-8dcb-4ef0-a58e-b87e2f7b675e",
   "metadata": {},
   "source": [
    "NUEVO EJERCICIO: COLECCIONES COLEGIO\n",
    "\n",
    "Gestionar colegio con 3 aulas:\n",
    "    Aula 1: Inicialmente vacía\n",
    "    Aula 2: Inicialmente vacía\n",
    "    Aula 3: Inicialmente vacía\n",
    "\n",
    "Pintamos un menú con:\n",
    "1. Insertar alumno -> En que aula quieres meter al alumno -> DNI, Nombre y Apellidos.\n",
    "2. Mostrar alumnos colegio -> Todos los alumnos del colegio por aula con toda su información.\n",
    "3. Mostrar alumnos aula -> De que aula queremos mostrar los alumnos.\n",
    "4. Buscar alumno -> Preguntar DNI -> En que aula se encuentra el alumno que tiene ese DNI y si no lo encuentra poner un mensaje de que no se encuentra\n",
    "5. Borrar alumno (Opcional)\n",
    "6. Salir\n"
   ]
  },
  {
   "cell_type": "code",
   "execution_count": 78,
   "id": "d0adc9f5-9425-40f5-b9d1-9a37f58ffc17",
   "metadata": {
    "tags": []
   },
   "outputs": [
    {
     "name": "stdout",
     "output_type": "stream",
     "text": [
      "Menú interactivo: \n",
      "\n",
      " 1. Insertar alumno \n",
      " 2. Mostrar alumnos del colegio \n",
      " 3. Mostrar alumnos de un aula determinada \n",
      " 4. Buscar alumno por DNI \n",
      " 5. Borrar alumno por DNI \n",
      " 6. Salir del menú\n"
     ]
    },
    {
     "name": "stdin",
     "output_type": "stream",
     "text": [
      "Introducza opción:  8\n"
     ]
    },
    {
     "name": "stdout",
     "output_type": "stream",
     "text": [
      "Opción incorrecta, pruebe de nuevo.\n",
      "\n",
      "\n",
      "\n",
      "Menú interactivo: \n",
      "\n",
      " 1. Insertar alumno \n",
      " 2. Mostrar alumnos del colegio \n",
      " 3. Mostrar alumnos de un aula determinada \n",
      " 4. Buscar alumno por DNI \n",
      " 5. Borrar alumno por DNI \n",
      " 6. Salir del menú\n"
     ]
    },
    {
     "name": "stdin",
     "output_type": "stream",
     "text": [
      "Introducza opción:  6\n"
     ]
    },
    {
     "name": "stdout",
     "output_type": "stream",
     "text": [
      "Saliendo del menú\n",
      "\n",
      "\n",
      "\n"
     ]
    }
   ],
   "source": [
    "lista_alumnos_aula_1 = []\n",
    "lista_alumnos_aula_2 = []\n",
    "lista_alumnos_aula_3 = []\n",
    "registro_aulas = {}\n",
    "condicion_salida = False\n",
    "while (condicion_salida == False):\n",
    "    registro_alumnos = {}\n",
    "    print(\"Menú interactivo: \\n\\n 1. Insertar alumno \\n 2. Mostrar alumnos del colegio \\n 3. Mostrar alumnos de un aula determinada \\n 4. Buscar alumno por DNI \\n 5. Borrar alumno por DNI \\n 6. Salir del menú\")\n",
    "    opcion = int(input('Introducza opción: '))\n",
    "    \n",
    "    if opcion == 1:\n",
    "        aula = int(input('Escriba en que aula quiere añadir al alumno: \\n Aula 1 : 1 \\n Aula 2 : 2 \\n Aula 3 : 3 \\n' ))\n",
    "        if aula == 1:\n",
    "            dni_alumno = input('Introduzca DNI del alumno: ')\n",
    "            nombre_alumno = input('Introduzca nombre del alumno: ')\n",
    "            apellidos_alumno = input('Introduzca apellidos del alumno: ')\n",
    "            \n",
    "            registro_alumnos['DNI'] = dni_alumno\n",
    "            registro_alumnos['Nombre'] = nombre_alumno\n",
    "            registro_alumnos['Apellidos'] = apellidos_alumno\n",
    "            \n",
    "            lista_alumnos_aula_1.append(registro_alumnos)\n",
    "            registro_aulas['Aula 1'] = lista_alumnos_aula_1\n",
    "            \n",
    "        elif aula == 2:\n",
    "            dni_alumno = input('Introduzca DNI del alumno: ')\n",
    "            nombre_alumno = input('Introduzca nombre del alumno: ')\n",
    "            apellidos_alumno = input('Introduzca apellidos del alumno: ')\n",
    "            \n",
    "            registro_alumnos['DNI'] = dni_alumno\n",
    "            registro_alumnos['Nombre'] = nombre_alumno\n",
    "            registro_alumnos['Apellidos'] = apellidos_alumno\n",
    "            \n",
    "            lista_alumnos_aula_2.append(registro_alumnos)\n",
    "            registro_aulas['Aula 2'] = lista_alumnos_aula_2\n",
    "\n",
    "            \n",
    "        elif aula == 3:\n",
    "            dni_alumno = input('Introduzca DNI del alumno: ')\n",
    "            nombre_alumno = input('Introduzca nombre del alumno: ')\n",
    "            apellidos_alumno = input('Introduzca apellidos del alumno: ')\n",
    "            \n",
    "            registro_alumnos['DNI'] = dni_alumno\n",
    "            registro_alumnos['Nombre'] = nombre_alumno\n",
    "            registro_alumnos['Apellidos'] = apellidos_alumno\n",
    "            \n",
    "            lista_alumnos_aula_3.append(registro_alumnos)\n",
    "            registro_aulas['Aula 3'] = lista_alumnos_aula_3\n",
    "            \n",
    "        else:\n",
    "            print('Opción no válida, vuelta al menú principal')\n",
    "            \n",
    "    \n",
    "    elif opcion == 2:\n",
    "        for clave,valor in registro_aulas.items():\n",
    "            print(clave,':',f'Alumnos totales: {len(valor)} ', f'\\n {valor}')\n",
    "    \n",
    "    elif opcion == 3:\n",
    "        mostrar_aula = int(input('Escriba el aula para ver los alumnos: \\n Aula 1 : 1 \\n Aula 2 : 2 \\n Aula 3 : 3 \\n' ))\n",
    "        if mostrar_aula == 1:\n",
    "            print(f'En el aula {mostrar_aula} los alumnos son {len(registro_aulas[\"Aula 1\"])} \\n {registro_aulas[\"Aula 1\"]}')\n",
    "        \n",
    "        elif mostrar_aula == 2:\n",
    "            print(f'En el aula {mostrar_aula} los alumnos son {len(registro_aulas[\"Aula 2\"])} \\n {registro_aulas[\"Aula 2\"]}')\n",
    "            \n",
    "        elif mostrar_aula == 3:\n",
    "            print(f'En el aula {mostrar_aula} los alumnos son {len(registro_aulas[\"Aula 3\"])} \\n {registro_aulas[\"Aula 3\"]}')\n",
    "        \n",
    "        else:\n",
    "            print('Opción no válida, vuelta al menú principal')\n",
    "            \n",
    "    \n",
    "    elif opcion == 4:\n",
    "        registrado_en_aula = False\n",
    "        dni_teclado = input('Introduzca el DNI del alumno que desea buscar:')\n",
    "        \n",
    "        for aula,alumnos in registro_aulas.items():\n",
    "            for alumno in alumnos:\n",
    "                if alumno['DNI'] == dni_teclado:\n",
    "                    aula_alumno = aula\n",
    "                    registrado_en_aula = True\n",
    "                             \n",
    "        if registrado_en_aula:\n",
    "            print(f'El alumno con dni {dni_teclado} se encuentra en el {aula_alumno}') \n",
    "        else:\n",
    "            print(f\"El alumno con dni {dni_teclado} no se encuentra en ninguna aula\")\n",
    "    \n",
    "    elif opcion == 5:\n",
    "        registrado_en_aula = False\n",
    "        dni_teclado = input('Introduzca el DNI del alumno que desea eliminar:')\n",
    "        \n",
    "        for aula,alumnos in registro.items():\n",
    "            for indice,alumno in enumerate(alumnos):\n",
    "                if alumno['DNI'] == dni_teclado:\n",
    "                    registro[aula].pop(indice)\n",
    "                    aula_alumno = aula\n",
    "                    registrado_en_aula = True\n",
    "                    \n",
    "        if registrado_en_aula:\n",
    "            print(f'El alumno con dni {dni_teclado} ha sido eliminado del {aula_alumno}') \n",
    "        else:\n",
    "            print(f\"El alumno con dni {dni_teclado} no se encuentra en ninguna aula\")\n",
    "    \n",
    "    #Condición de salida\n",
    "    elif opcion == 6:\n",
    "        print('Saliendo del menú')\n",
    "        condicion_salida = True\n",
    "    else:\n",
    "        print(\"Opción incorrecta, pruebe de nuevo.\")\n",
    "    \n",
    "    print(\"\\n\\n\")\n",
    "        "
   ]
  },
  {
   "cell_type": "code",
   "execution_count": 57,
   "id": "c186ef48-9c1c-40eb-90a1-d5fea200891c",
   "metadata": {},
   "outputs": [
    {
     "data": {
      "text/plain": [
       "{'Aula 1': [{'DNI': '1111', 'Nombre': 'qqq', 'Apellidos': 'www'},\n",
       "  {'DNI': '546343', 'Nombre': 'fgdfg', 'Apellidos': 'fdgbfdg'}],\n",
       " 'Aula 2': [{'DNI': '2222', 'Nombre': 'ereee', 'Apellidos': 'rtrt'}],\n",
       " 'Aula 3': [{'DNI': '3333', 'Nombre': 'trtr', 'Apellidos': 'gfgf'},\n",
       "  {'DNI': '6575', 'Nombre': 'utu', 'Apellidos': 'vnbvb'}]}"
      ]
     },
     "execution_count": 57,
     "metadata": {},
     "output_type": "execute_result"
    }
   ],
   "source": [
    "registro_aulas"
   ]
  },
  {
   "cell_type": "code",
   "execution_count": null,
   "id": "7305a56a-76c4-4d25-9397-64fdfd9b8363",
   "metadata": {},
   "outputs": [],
   "source": []
  },
  {
   "cell_type": "code",
   "execution_count": 70,
   "id": "7f5a2e1c-2037-4243-ae51-d289322f3b30",
   "metadata": {},
   "outputs": [],
   "source": [
    "registro = {'Aula 1': [{'DNI': '111', 'Nombre': 'qqq', 'Apellidos': 'www'},\n",
    "  {'DNI': '575654', 'Nombre': 'iopbt', 'Apellidos': 'eweo'}],\n",
    " 'Aula 2': [{'DNI': '222', 'Nombre': 'aaa', 'Apellidos': 'sss'}],\n",
    " 'Aula 3': [{'DNI': '33333', 'Nombre': 'ffff', 'Apellidos': 'ggggg'},\n",
    "  {'DNI': '09650965', 'Nombre': 'protrp', 'Apellidos': 'bmgfibf'}]}"
   ]
  },
  {
   "cell_type": "code",
   "execution_count": 3,
   "id": "1aebb754-ab4a-410e-969a-3df78aa1dc10",
   "metadata": {},
   "outputs": [
    {
     "data": {
      "text/plain": [
       "[{'DNI': '987506956', 'Nombre': 'opidpfsod', 'Apellidos': 'opsdkfmpoe'}]"
      ]
     },
     "execution_count": 3,
     "metadata": {},
     "output_type": "execute_result"
    }
   ],
   "source": [
    "registro['Aula 1']"
   ]
  },
  {
   "cell_type": "code",
   "execution_count": 28,
   "id": "2a2f1f2f-561e-4e4b-839b-7b68c854b12a",
   "metadata": {
    "tags": []
   },
   "outputs": [
    {
     "name": "stdout",
     "output_type": "stream",
     "text": [
      "Aula 1 : Hay un total de 2 alumnos \n",
      " [{'DNI': '111', 'Nombre': 'qqq', 'Apellidos': 'www'}, {'DNI': '575654', 'Nombre': 'iopbt', 'Apellidos': 'eweo'}]\n",
      "Aula 2 : Hay un total de 1 alumnos \n",
      " [{'DNI': '222', 'Nombre': 'aaa', 'Apellidos': 'sss'}]\n",
      "Aula 3 : Hay un total de 2 alumnos \n",
      " [{'DNI': '33333', 'Nombre': 'ffff', 'Apellidos': 'ggggg'}, {'DNI': '09650965', 'Nombre': 'protrp', 'Apellidos': 'bmgfibf'}]\n"
     ]
    }
   ],
   "source": [
    "for clave,valor in registro.items():\n",
    "    print(clave,':',f'Hay un total de {len(valor)} alumnos', f'\\n {valor}')\n",
    "        "
   ]
  },
  {
   "cell_type": "code",
   "execution_count": 74,
   "id": "e7892855-a61d-4145-a18e-2111dc5df35e",
   "metadata": {},
   "outputs": [],
   "source": [
    "dni_tc = '09650965'"
   ]
  },
  {
   "cell_type": "code",
   "execution_count": 75,
   "id": "b623a48c-da31-4c78-936c-313ff3e22c72",
   "metadata": {},
   "outputs": [
    {
     "name": "stdout",
     "output_type": "stream",
     "text": [
      "El alumno con dni 09650965 no se encuentra en ninguna aula\n"
     ]
    }
   ],
   "source": [
    "registrado_en_aula = False\n",
    "for clave,valor in registro.items():\n",
    "\n",
    "    for indice,alumno in enumerate(valor):\n",
    "        if alumno['DNI'] == dni_tc:\n",
    "            registro[clave].pop(indice)\n",
    "            \n",
    "\n",
    "                      \n",
    "            \n",
    "if registrado_en_aula:\n",
    "    print(f'El alumno con dni {dni_tc} ha sido eliminado del {clave}') \n",
    "else:\n",
    "    print(f\"El alumno con dni {dni_tc} no se encuentra en ninguna aula\")"
   ]
  },
  {
   "cell_type": "code",
   "execution_count": 76,
   "id": "f72fd865-3f5a-4133-84c1-d3fc998686ff",
   "metadata": {},
   "outputs": [
    {
     "data": {
      "text/plain": [
       "{'Aula 1': [{'DNI': '111', 'Nombre': 'qqq', 'Apellidos': 'www'}],\n",
       " 'Aula 2': [{'DNI': '222', 'Nombre': 'aaa', 'Apellidos': 'sss'}],\n",
       " 'Aula 3': [{'DNI': '33333', 'Nombre': 'ffff', 'Apellidos': 'ggggg'}]}"
      ]
     },
     "execution_count": 76,
     "metadata": {},
     "output_type": "execute_result"
    }
   ],
   "source": [
    "registro"
   ]
  },
  {
   "cell_type": "code",
   "execution_count": null,
   "id": "18337a69-268d-41a8-bffc-f363c0d83255",
   "metadata": {},
   "outputs": [],
   "source": []
  }
 ],
 "metadata": {
  "kernelspec": {
   "display_name": "Python 3",
   "language": "python",
   "name": "python3"
  },
  "language_info": {
   "codemirror_mode": {
    "name": "ipython",
    "version": 3
   },
   "file_extension": ".py",
   "mimetype": "text/x-python",
   "name": "python",
   "nbconvert_exporter": "python",
   "pygments_lexer": "ipython3",
   "version": "3.9.13"
  }
 },
 "nbformat": 4,
 "nbformat_minor": 5
}
